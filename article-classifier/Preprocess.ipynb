{
 "cells": [
  {
   "cell_type": "code",
<<<<<<< HEAD
   "execution_count": 11,
=======
   "execution_count": 1,
>>>>>>> 939743dd49af8fa0fb8801b66ada727d7f1279da
   "metadata": {},
   "outputs": [],
   "source": [
    "import pandas as pd\n",
    "import xlrd\n",
    "from Util import *"
   ]
  },
  {
   "cell_type": "code",
   "execution_count": null,
   "metadata": {},
   "outputs": [],
   "source": [
    "#PROCESSANDO DADOS DO SCRAPPER\n",
    "\n",
    "\n",
    "df = pd.read_csv('../custom-search/articles.txt',header=None)\n",
    "# print(data)\n",
    "\n",
    "for i,line in df.iterrows():\n",
    "    print(i,line[0])\n",
    "    if i == 13:\n",
    "        break;\n",
    "\n"
   ]
  },
  {
   "cell_type": "code",
<<<<<<< HEAD
   "execution_count": 14,
=======
   "execution_count": 22,
>>>>>>> 939743dd49af8fa0fb8801b66ada727d7f1279da
   "metadata": {},
   "outputs": [],
   "source": [
    "#SALVANDO OS DADOS PARA TITLE;LINK;LABEL\n",
    "book = xlrd.open_workbook('Classificação Raido v1.xlsx')\n",
    "sheets = book.sheet_names()\n",
<<<<<<< HEAD
    "d1 = []\n",
=======
    "d1 = {}\n",
>>>>>>> 939743dd49af8fa0fb8801b66ada727d7f1279da
    "cont = 0\n",
    "for sheet in range(11,len(sheets)):\n",
    "    sheet = sheets[sheet]\n",
    "    data = book.sheet_by_name(sheet)\n",
    "    query = data.row(0)[2]\n",
    "    for i in range(4,data.nrows):\n",
    "        #Verifico se o ultimo campo está vazio\n",
<<<<<<< HEAD
    "        title = data.row(i)[0].value.replace('\\r','').replace('\\n','').lower()\n",
    "        file = data.row(i)[5].value\n",
=======
    "        title = data.row(i)[0].value.replace('\\r','').replace('\\n','').replace(';',' ')\n",
    "        file = data.row(i)[5].value.replace('\\r','').replace('\\n','').replace(';',' ')\n",
>>>>>>> 939743dd49af8fa0fb8801b66ada727d7f1279da
    "        label = data.row(i)[10].value.replace('\\r','').replace('\\n','').lower()\n",
    "        obs = data.row(i)[11].value\n",
    "        url = data.row(i)[14].value\n",
    "        _id = cont\n",
    "        cont+=1\n",
    "        doc = {\n",
    "            'title':title,\n",
    "            'file':file,\n",
    "            'url':url,\n",
    "            'label':label,\n",
    "            'obs':obs,\n",
    "#             'words':TextCounter(title),\n",
    "            'vet' : [],\n",
    "            'lang': ''\n",
    "        }\n",
<<<<<<< HEAD
    "        if title: \n",
    "            d1.append(doc)\n",
    "            \n",
    "with open('list-download.csv','w') as f:\n",
    "    for i in d1:\n",
    "        f.write('{};{};{}\\n'.format(i['title'],i['url'],i['label']))\n",
=======
    "        if file: \n",
    "#             d1.append(doc)\n",
    "            d1[file] = doc\n",
    "    \n",
    "d1 = [ d1[i] for i in d1]\n",
    "with open('log-titles.csv','w') as f:\n",
    "    for i in d1:\n",
    "        f.write('{};{};{};{}\\n'.format(i['title'],i['label'],i['file'],i['url']))\n",
    "    \n",
    "            "
   ]
  },
  {
   "cell_type": "code",
   "execution_count": 7,
   "metadata": {},
   "outputs": [
    {
     "name": "stdout",
     "output_type": "stream",
     "text": [
      " Analiser.ipynb\t\t        log.csv\t\t       requirements.txt\n",
      " aux.pdf\t\t        log-test.csv\t       Separador.ipynb\n",
      " bibliografia-janaina.xlsx      log-titles.csv\t       teste.csv\n",
      "'Classificação Raido v1.xlsx'   Model.py\t       teste.ipynb\n",
      " Classifier.py\t\t        models.txt\t       teste.txt\n",
      " comparador.py\t\t        out.txt\t\t       titulos-janaina.csv\n",
      " downloader.sh\t\t        Preprocess.ipynb       Trainer.ipynb\n",
      " gerador-links.py\t        Preprocess.py\t       trainer.py\n",
      " inference.py\t\t        preprocess-search.py   Trainer.py\n",
      " install-spacy-nlp-models.sh    __pycache__\t       untitled.txt\n",
      " list-download.csv\t        README.md\t       Util.py\n"
     ]
    }
   ],
   "source": [
    "!ls"
   ]
  },
  {
   "cell_type": "code",
   "execution_count": 3,
   "metadata": {},
   "outputs": [],
   "source": [
    "#SALVANDO OS DADOS PARA TITLE;LINK;LABEL\n",
    "book = xlrd.open_workbook('bibliografia-janaina.xlsx')\n",
    "sheets = book.sheet_names()\n",
    "d2 = []\n",
    "cont = 0\n",
    "for sheet in range(len(sheets)-2):\n",
    "    sheet = sheets[sheet] \n",
    "    data = book.sheet_by_name(sheet)\n",
    "    for i in range(4,data.nrows):\n",
    "        title = data.row(i)[1].value.replace('\\r','').replace('\\n','').lower()\n",
    "        id = cont\n",
    "        cont+=1\n",
    "        doc = {\n",
    "            'title':title,\n",
    "            'words':TextCounter(title),\n",
    "            'vet' : [],\n",
    "            'label': 'sim'\n",
    "        }\n",
    "        if title: \n",
    "            d2.append(doc)\n",
    "            \n",
    "with open('titulos-janaina.csv','w') as f:\n",
    "    for i in d2:\n",
    "        f.write('{};{}\\n'.format(i['title'],i['label']))\n",
>>>>>>> 939743dd49af8fa0fb8801b66ada727d7f1279da
    "    \n",
    "            "
   ]
  }
 ],
 "metadata": {
  "kernelspec": {
   "display_name": "Python 3",
   "language": "python",
   "name": "python3"
  },
  "language_info": {
   "codemirror_mode": {
    "name": "ipython",
    "version": 3
   },
   "file_extension": ".py",
   "mimetype": "text/x-python",
   "name": "python",
   "nbconvert_exporter": "python",
   "pygments_lexer": "ipython3",
<<<<<<< HEAD
   "version": "3.8.1"
=======
   "version": "3.6.9"
>>>>>>> 939743dd49af8fa0fb8801b66ada727d7f1279da
  }
 },
 "nbformat": 4,
 "nbformat_minor": 4
}
