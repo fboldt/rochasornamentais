{
 "cells": [
  {
   "cell_type": "code",
   "execution_count": 1,
   "metadata": {},
   "outputs": [],
   "source": [
    "# Ler dados da planilha\n",
    "import pandas as pd\n",
    "import csv\n",
    "from tqdm import tqdm"
   ]
  },
  {
   "cell_type": "code",
   "execution_count": 3,
   "metadata": {},
   "outputs": [],
   "source": [
    "# Importando o arquivo do excel\n",
    "xls_file = pd.ExcelFile('/dados/artigos-Janaina-05-02-2020.xlsx')"
   ]
  },
  {
   "cell_type": "code",
   "execution_count": 4,
   "metadata": {},
   "outputs": [],
   "source": [
    "# Pegando todas as linhas do arquivo (nrows=10)\n",
    "df = xls_file.parse('teste')\n",
    "df.columns = [\"Título\", \"lingua\", \"Relevante\", \"link\", \"link_corrigido\"]"
   ]
  },
  {
   "cell_type": "code",
   "execution_count": 7,
   "metadata": {},
   "outputs": [
    {
     "name": "stderr",
     "output_type": "stream",
     "text": [
      "100%|██████████| 260/260 [00:00<00:00, 5188.62it/s]\n"
     ]
    }
   ],
   "source": [
    "# Criar arquivo csv sem duplicatas, com título e língua\n",
    "with open('/dados/csv_processado.csv', 'w', newline='') as file:\n",
    "    for i in tqdm(range(len(df))):\n",
    "        row = df.iloc[i,:]\n",
    "        if row[0] not in open('/dados/csv_processado.csv').read():\n",
    "           writer = csv.writer(file)\n",
    "           writer.writerow([row[0], row[1]]) "
   ]
  },
  {
   "cell_type": "code",
   "execution_count": null,
   "metadata": {},
   "outputs": [],
   "source": []
  }
 ],
 "metadata": {
  "file_extension": ".py",
  "kernelspec": {
   "display_name": "Python 3",
   "language": "python",
   "name": "python3"
  },
  "language_info": {
   "codemirror_mode": {
    "name": "ipython",
    "version": 3
   },
   "file_extension": ".py",
   "mimetype": "text/x-python",
   "name": "python",
   "nbconvert_exporter": "python",
   "pygments_lexer": "ipython3",
   "version": "3.6.9"
  },
  "mimetype": "text/x-python",
  "name": "python",
  "npconvert_exporter": "python",
  "pygments_lexer": "ipython3",
  "version": 3
 },
 "nbformat": 4,
 "nbformat_minor": 2
}
